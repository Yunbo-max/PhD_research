{
 "cells": [
  {
   "cell_type": "markdown",
   "metadata": {},
   "source": [
    "# Some blogs for Synthetic Data\n",
    "\n",
    "\n",
    "# Syntheticuc\n",
    "https://syntheticus.ai/blog/leveraging-safe-synthetic-data-to-overcome-scarcity-in-ai-llm-projects#:~:text=By%20creating%20varied%2C%20high%2Dquality,capture%20in%20the%20real%20world.\n",
    "\n",
    "https://syntheticus.ai/blog/how-to-evaluate-synthetic-data-quality\n",
    "\n",
    "# Mostly\n",
    "https://mostly.ai/blog/how-to-benchmark-synthetic-data-generators"
   ]
  },
  {
   "cell_type": "markdown",
   "metadata": {},
   "source": [
    "# Literature Review\n",
    "https://www.scopus.com/results/results.uri?sort=plf-f&src=s&st1=synthetic+data+quality&sid=a4dadbc1b83c27a4d3a7aeb4693ce834&sot=b&sdt=b&sl=37&s=TITLE-ABS-KEY%28graph+diffusion%29&origin=searchbasic&editSaveSearch=&yearFrom=Before+1960&yearTo=Present&sessionSearchId=a4dadbc1b83c27a4d3a7aeb4693ce834&limit=10"
   ]
  }
 ],
 "metadata": {
  "language_info": {
   "name": "python"
  }
 },
 "nbformat": 4,
 "nbformat_minor": 2
}
