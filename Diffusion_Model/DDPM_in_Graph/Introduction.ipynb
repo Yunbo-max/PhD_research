{
 "cells": [
  {
   "cell_type": "markdown",
   "metadata": {},
   "source": [
    "# Julia\n",
    "https://simonensemble.github.io/pluto_nbs/graph_diffusion_blog.jl.html"
   ]
  },
  {
   "cell_type": "markdown",
   "metadata": {},
   "source": [
    "# Deep Graph Learning\n",
    "https://docs.dgl.ai/en/1.1.x/notebooks/sparse/graph_diffusion.html"
   ]
  },
  {
   "cell_type": "markdown",
   "metadata": {},
   "source": [
    "# DiGress: Discrete Denoising diffusion models for graph generation\n",
    "https://github.com/cvignac/DiGress"
   ]
  },
  {
   "cell_type": "markdown",
   "metadata": {},
   "source": [
    "# Diffusion Improves Graph Learning\n",
    "https://github.com/gasteigerjo/gdc"
   ]
  }
 ],
 "metadata": {
  "language_info": {
   "name": "python"
  }
 },
 "nbformat": 4,
 "nbformat_minor": 2
}
