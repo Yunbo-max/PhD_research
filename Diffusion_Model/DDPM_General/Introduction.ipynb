{
 "cells": [
  {
   "cell_type": "markdown",
   "metadata": {},
   "source": [
    "# DDPM Lession 1\n",
    "https://learnopencv.com/denoising-diffusion-probabilistic-models/\n",
    "\n",
    "# DDPM Lession 2\n",
    "https://huggingface.co/blog/annotated-diffusion\n",
    "\n",
    "# DDPM Lession 3\n",
    "https://www.kaggle.com/code/aakashnain/ddpms-part-2\n",
    "\n",
    "# DDPM Lession 4\n",
    "https://www.youtube.com/watch?v=a4Yfz2FxXiY"
   ]
  }
 ],
 "metadata": {
  "language_info": {
   "name": "python"
  }
 },
 "nbformat": 4,
 "nbformat_minor": 2
}
