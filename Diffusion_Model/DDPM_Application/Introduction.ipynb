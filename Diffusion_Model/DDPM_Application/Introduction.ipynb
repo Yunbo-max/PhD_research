{
 "cells": [
  {
   "cell_type": "markdown",
   "metadata": {},
   "source": [
    "# Diffusion Variational Autoencoder for Tackling Stochasticity in Multi-Step Regression Stock Price Prediction\n",
    "https://github.com/koa-fin/dva"
   ]
  }
 ],
 "metadata": {
  "language_info": {
   "name": "python"
  }
 },
 "nbformat": 4,
 "nbformat_minor": 2
}
